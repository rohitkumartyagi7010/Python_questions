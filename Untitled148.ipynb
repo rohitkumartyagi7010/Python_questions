{
 "cells": [
  {
   "cell_type": "markdown",
   "id": "4ee50f9e-086b-4921-8a9c-e69cff9e3e6c",
   "metadata": {},
   "source": [
    "# String_Formatting"
   ]
  },
  {
   "cell_type": "code",
   "execution_count": 2,
   "id": "7cffd5a4-ffbb-4b1a-8102-5580dc818976",
   "metadata": {},
   "outputs": [
    {
     "name": "stdout",
     "output_type": "stream",
     "text": [
      "Welcome name your age is age\n"
     ]
    }
   ],
   "source": [
    "name = \"Sachin\"\n",
    "age = 25\n",
    "\n",
    "print(\"Welcome name your age is age\")"
   ]
  },
  {
   "cell_type": "markdown",
   "id": "ed8eb4c3-88fb-4e9b-9d4e-01b87decc221",
   "metadata": {},
   "source": [
    "# 1.First_Method"
   ]
  },
  {
   "cell_type": "code",
   "execution_count": 3,
   "id": "ba133643-7563-413e-a6cc-4d7298ab629b",
   "metadata": {},
   "outputs": [
    {
     "name": "stdout",
     "output_type": "stream",
     "text": [
      "Welcome Sachin your age is 25\n"
     ]
    }
   ],
   "source": [
    "name = \"Sachin\"\n",
    "age = 25\n",
    "\n",
    "print(\"Welcome %s your age is %s\"%(name,age))"
   ]
  },
  {
   "cell_type": "markdown",
   "id": "6984816e-7ea6-401f-a171-9dfc496b42e3",
   "metadata": {},
   "source": [
    "# 2.Second_Method"
   ]
  },
  {
   "cell_type": "code",
   "execution_count": 7,
   "id": "47c1b0a4-c5a8-4b3e-9e08-f3c31a7e06eb",
   "metadata": {},
   "outputs": [
    {
     "name": "stdout",
     "output_type": "stream",
     "text": [
      "Welcome 25 your age is Sachin\n"
     ]
    }
   ],
   "source": [
    "name = \"Sachin\"\n",
    "age = 25\n",
    "\n",
    "print(\"Welcome {} your age is {}\".format(name,age))"
   ]
  },
  {
   "cell_type": "code",
   "execution_count": 8,
   "id": "130f8e7d-4968-4ef9-8f2b-647ed9d93d25",
   "metadata": {},
   "outputs": [],
   "source": [
    "# 3.Format String"
   ]
  },
  {
   "cell_type": "code",
   "execution_count": 9,
   "id": "90356fdc-96d1-46d4-937d-a76ff4c72cd9",
   "metadata": {},
   "outputs": [
    {
     "name": "stdout",
     "output_type": "stream",
     "text": [
      "Welcome Sachin your age is 25\n"
     ]
    }
   ],
   "source": [
    "name = \"Sachin\"\n",
    "age = 25\n",
    "\n",
    "print(f\"Welcome {name} your age is {age}\")"
   ]
  },
  {
   "cell_type": "code",
   "execution_count": 10,
   "id": "c44b8735-9f66-458f-b775-3359be731fcd",
   "metadata": {},
   "outputs": [
    {
     "data": {
      "text/plain": [
       "'Dear {name},\\n\\n[Ducat] is delighted to offer you the [full-time, part-time, etc.] position of [job title] with an anticipated start date of [start date], contingent upon [background check, drug screening, etc.].\\n\\nAs the [job title], you will be responsible for [brief mention of job responsibilities and expectations].\\n\\nYou will report directly to [manager/supervisor name and title] at [workplace location]. Working hours are from [hours of day, days of week].\\n\\nThe starting salary for this position is [dollar amount] per [hour, year, etc.]. Payment is on a [weekly, biweekly, monthly, etc.] basis by [direct deposit, check, etc.], starting on [date of first pay period]. In addition, you will be eligible to receive [discuss additional compensation potential].\\n\\n[Company name] offers a comprehensive benefits program, which includes [medical insurance, 401(k), paid time off, etc.].\\n\\nYour employment with [company name] will be on an at-will basis, which means you and the company are free to terminate employment at any time, with or without cause or advance notice. This letter is not a contract indicating employment terms or duration.\\n\\nPlease confirm your acceptance of this offer by signing and returning this letter by [offer expiration date].\\n\\nSincerely,\\n\\n[Your Signature]\\n\\n[Your Printed Name]\\n[Data Analayst]\\n\\nCandidate Signature: ______________________________\\n\\nCandidate Printed Name: ______________________________\\n\\nDate: ______________________________\\n\\n'"
      ]
     },
     "execution_count": 10,
     "metadata": {},
     "output_type": "execute_result"
    }
   ],
   "source": [
    "\n",
    "\n",
    "\"\"\"Dear {name},\n",
    "\n",
    "[Ducat] is delighted to offer you the [full-time, part-time, etc.] position of [job title] with an anticipated start date of [start date], contingent upon [background check, drug screening, etc.].\n",
    "\n",
    "As the [job title], you will be responsible for [brief mention of job responsibilities and expectations].\n",
    "\n",
    "You will report directly to [manager/supervisor name and title] at [workplace location]. Working hours are from [hours of day, days of week].\n",
    "\n",
    "The starting salary for this position is [dollar amount] per [hour, year, etc.]. Payment is on a [weekly, biweekly, monthly, etc.] basis by [direct deposit, check, etc.], starting on [date of first pay period]. In addition, you will be eligible to receive [discuss additional compensation potential].\n",
    "\n",
    "[Company name] offers a comprehensive benefits program, which includes [medical insurance, 401(k), paid time off, etc.].\n",
    "\n",
    "Your employment with [company name] will be on an at-will basis, which means you and the company are free to terminate employment at any time, with or without cause or advance notice. This letter is not a contract indicating employment terms or duration.\n",
    "\n",
    "Please confirm your acceptance of this offer by signing and returning this letter by [offer expiration date].\n",
    "\n",
    "Sincerely,\n",
    "\n",
    "[Your Signature]\n",
    "\n",
    "[Your Printed Name]\n",
    "[Data Analayst]\n",
    "\n",
    "Candidate Signature: ______________________________\n",
    "\n",
    "Candidate Printed Name: ______________________________\n",
    "\n",
    "Date: ______________________________\n",
    "\n",
    "\"\"\""
   ]
  },
  {
   "cell_type": "markdown",
   "id": "9f21c830-5086-4efc-abac-a816094d5aa4",
   "metadata": {},
   "source": [
    "# Escape Character"
   ]
  },
  {
   "cell_type": "code",
   "execution_count": 11,
   "id": "5427e42e-0676-4abc-9d34-9a92bb1498b8",
   "metadata": {},
   "outputs": [],
   "source": [
    "# \\n new line\n",
    "# \\t\n",
    "# \\\\ file handling \n",
    "# \\b\n",
    "# \\'\n",
    "# \\\"\n",
    "# \\t"
   ]
  },
  {
   "cell_type": "code",
   "execution_count": 18,
   "id": "94fb9276-c342-4860-b006-130f5117ea76",
   "metadata": {},
   "outputs": [
    {
     "name": "stdout",
     "output_type": "stream",
     "text": [
      "hello Rohit\n",
      "Yes\n"
     ]
    }
   ],
   "source": [
    "print(\"hello\",\"Rohit\")\n",
    "print(\"Yes\")"
   ]
  },
  {
   "cell_type": "code",
   "execution_count": 22,
   "id": "79b4f16b-cf1a-4734-aae6-3ea9c34dec4a",
   "metadata": {},
   "outputs": [
    {
     "name": "stdout",
     "output_type": "stream",
     "text": [
      "hello\n",
      "r\n",
      "o\n",
      "hit\n"
     ]
    }
   ],
   "source": [
    "print(\"hello\\nr\\no\\nhit\")"
   ]
  },
  {
   "cell_type": "code",
   "execution_count": 23,
   "id": "d4853397-a52a-4d22-9e2c-55a9d29c6281",
   "metadata": {},
   "outputs": [
    {
     "name": "stdout",
     "output_type": "stream",
     "text": [
      "hello \trohit \n"
     ]
    }
   ],
   "source": [
    "print(\"hello \\trohit \")"
   ]
  },
  {
   "cell_type": "code",
   "execution_count": 27,
   "id": "d6036280-337e-488d-889d-8890b7be87a0",
   "metadata": {},
   "outputs": [
    {
     "name": "stdout",
     "output_type": "stream",
     "text": [
      "herohit\n"
     ]
    }
   ],
   "source": [
    "print(\"hello\\b\\b\\brohit\")"
   ]
  },
  {
   "cell_type": "code",
   "execution_count": 30,
   "id": "f6f09d28-c819-48af-b2fb-36a11ba11471",
   "metadata": {},
   "outputs": [
    {
     "name": "stdout",
     "output_type": "stream",
     "text": [
      "hello \"Rohit\"\n"
     ]
    }
   ],
   "source": [
    "print(\"hello \\\"Rohit\\\"\")"
   ]
  },
  {
   "cell_type": "code",
   "execution_count": 32,
   "id": "5db19709-7f37-43c0-8560-bdbb5026c277",
   "metadata": {},
   "outputs": [
    {
     "name": "stdout",
     "output_type": "stream",
     "text": [
      "hello 'Rohit'\n"
     ]
    }
   ],
   "source": [
    "print('hello \\'Rohit\\'')"
   ]
  },
  {
   "cell_type": "code",
   "execution_count": 33,
   "id": "e0e4498d-1b62-4b92-a271-4513010112ac",
   "metadata": {},
   "outputs": [
    {
     "name": "stdout",
     "output_type": "stream",
     "text": [
      "hello 'rohit'\n"
     ]
    }
   ],
   "source": [
    "print(\"hello 'rohit'\")\n",
    "\\\\newfolder"
   ]
  },
  {
   "cell_type": "code",
   "execution_count": 34,
   "id": "263036a7-5516-4aa2-adf8-5698450454c0",
   "metadata": {},
   "outputs": [
    {
     "ename": "SyntaxError",
     "evalue": "invalid syntax (979784095.py, line 1)",
     "output_type": "error",
     "traceback": [
      "\u001b[1;36m  Cell \u001b[1;32mIn[34], line 1\u001b[1;36m\u001b[0m\n\u001b[1;33m    \"\"G:\\1Python_RexGalaxy_Clasess\\1Python_RexGalaxy_Clasess\\1.Python_class_notes\\6.String\\4.Escape_characters\\Untitled.ipynb\"\"\u001b[0m\n\u001b[1;37m      ^\u001b[0m\n\u001b[1;31mSyntaxError\u001b[0m\u001b[1;31m:\u001b[0m invalid syntax\n"
     ]
    }
   ],
   "source": [
    "\"\"G:\\1Python_RexGalaxy_Clasess\\1Python_RexGalaxy_Clasess\\1.Python_class_notes\\6.String\\4.Escape_characters\\Untitled.ipynb\"\""
   ]
  },
  {
   "cell_type": "code",
   "execution_count": 38,
   "id": "51969f4b-a8a5-4653-978c-4a5bc00b69fa",
   "metadata": {},
   "outputs": [
    {
     "name": "stdout",
     "output_type": "stream",
     "text": [
      "hello \n",
      "naresh\n"
     ]
    }
   ],
   "source": [
    "print(\"hello \\nnaresh\")"
   ]
  },
  {
   "cell_type": "code",
   "execution_count": null,
   "id": "790a751e-739d-4867-8013-2d4443c314ac",
   "metadata": {},
   "outputs": [],
   "source": [
    "hello \\naresh"
   ]
  }
 ],
 "metadata": {
  "kernelspec": {
   "display_name": "Python 3 (ipykernel)",
   "language": "python",
   "name": "python3"
  },
  "language_info": {
   "codemirror_mode": {
    "name": "ipython",
    "version": 3
   },
   "file_extension": ".py",
   "mimetype": "text/x-python",
   "name": "python",
   "nbconvert_exporter": "python",
   "pygments_lexer": "ipython3",
   "version": "3.11.7"
  }
 },
 "nbformat": 4,
 "nbformat_minor": 5
}
